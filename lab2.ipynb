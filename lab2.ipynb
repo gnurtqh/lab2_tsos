{
 "cells": [
  {
   "cell_type": "markdown",
   "metadata": {
    "id": "0w6UvA-qn6pM"
   },
   "source": [
    "# <center> Практические задания по цифровой обработке сигналов </center>\n",
    "# <center> Специальная лабораторная работа № 2 </center>\n",
    "# <center> ДЕТЕКТИРОВАНИЕ ПОЛА ПО РЕЧЕВОЙ ЗВУКОЗАПИСИ </center>"
   ]
  },
  {
   "cell_type": "code",
   "execution_count": 2,
   "metadata": {},
   "outputs": [],
   "source": [
    "import os\n",
    "import pandas as pd\n",
    "import torchaudio\n",
    "import torch\n",
    "import numpy as np\n",
    "from sklearn.mixture import GaussianMixture\n",
    "from torchdata.datapipes.iter import FileLister\n"
   ]
  },
  {
   "cell_type": "markdown",
   "metadata": {},
   "source": [
    "Получение всех идентификаторов дикторов, которые находятся в наборе аудиоданных vox1_test_wav.zip"
   ]
  },
  {
   "cell_type": "code",
   "execution_count": 3,
   "metadata": {},
   "outputs": [
    {
     "name": "stdout",
     "output_type": "stream",
     "text": [
      "['id10270', 'id10271', 'id10272', 'id10273', 'id10274', 'id10275', 'id10276', 'id10277', 'id10278', 'id10279', 'id10280', 'id10281', 'id10282', 'id10283', 'id10284', 'id10285', 'id10286', 'id10287', 'id10288', 'id10289', 'id10290', 'id10291', 'id10292', 'id10293', 'id10294', 'id10295', 'id10296', 'id10297', 'id10298', 'id10299', 'id10300', 'id10301', 'id10302', 'id10303', 'id10304', 'id10305', 'id10306', 'id10307', 'id10308', 'id10309']\n"
     ]
    }
   ],
   "source": [
    "speaker_id_list = os.listdir(\"wav/\")\n",
    "print(speaker_id_list)"
   ]
  },
  {
   "cell_type": "markdown",
   "metadata": {},
   "source": [
    "Загрузка метаинформации по отношению к дикторам из файла vox1_meta.csv"
   ]
  },
  {
   "cell_type": "code",
   "execution_count": 4,
   "metadata": {},
   "outputs": [
    {
     "name": "stdout",
     "output_type": "stream",
     "text": [
      "        id          name gender nationality  set\n",
      "0  id10001  A.J._Buckley      m     Ireland  dev\n",
      "1  id10002   A.R._Rahman      m       India  dev\n",
      "2  id10003    Aamir_Khan      m       India  dev\n",
      "3  id10004   Aaron_Tveit      m         USA  dev\n",
      "4  id10005     Aaron_Yoo      m         USA  dev\n"
     ]
    }
   ],
   "source": [
    "all_speaker_info = pd.read_csv(\"vox1_meta.csv\", delimiter=\"\\t\")\n",
    "all_speaker_info.columns = [\"id\",\"name\",\"gender\", \"nationality\", \"set\"]\n",
    "print(all_speaker_info.head())"
   ]
  },
  {
   "cell_type": "markdown",
   "metadata": {},
   "source": [
    "Фильтрация метаданных дикторов, содержащихся в наборе данных"
   ]
  },
  {
   "cell_type": "code",
   "execution_count": 5,
   "metadata": {},
   "outputs": [
    {
     "name": "stdout",
     "output_type": "stream",
     "text": [
      "(40, 5)\n"
     ]
    }
   ],
   "source": [
    "ds_speaker_info = all_speaker_info[all_speaker_info[\"id\"].isin(speaker_id_list)]\n",
    "print(ds_speaker_info.shape)"
   ]
  },
  {
   "cell_type": "markdown",
   "metadata": {},
   "source": [
    "Получить список из 15 случайных идентификаторов дикторов для каждого пола"
   ]
  },
  {
   "cell_type": "code",
   "execution_count": 6,
   "metadata": {},
   "outputs": [
    {
     "name": "stdout",
     "output_type": "stream",
     "text": [
      "0     id10295\n",
      "1     id10277\n",
      "2     id10278\n",
      "3     id10294\n",
      "4     id10292\n",
      "5     id10275\n",
      "6     id10293\n",
      "7     id10301\n",
      "8     id10276\n",
      "9     id10271\n",
      "10    id10272\n",
      "11    id10279\n",
      "12    id10309\n",
      "13    id10304\n",
      "14    id10273\n",
      "15    id10297\n",
      "16    id10302\n",
      "17    id10305\n",
      "18    id10298\n",
      "19    id10290\n",
      "20    id10284\n",
      "21    id10274\n",
      "22    id10296\n",
      "23    id10283\n",
      "24    id10300\n",
      "Name: id, dtype: object\n"
     ]
    }
   ],
   "source": [
    "male_id = ds_speaker_info[ds_speaker_info[\"gender\"] == \"m\"][\"id\"]\n",
    "male_id = male_id.sample(frac=1).reset_index(drop=True).iloc[:15]\n",
    "\n",
    "female_id = ds_speaker_info[ds_speaker_info[\"gender\"] == \"f\"][\"id\"]\n",
    "female_id = female_id.sample(frac=1).reset_index(drop=True).iloc[:15]\n",
    "\n",
    "print(male_id)"
   ]
  },
  {
   "cell_type": "markdown",
   "metadata": {},
   "source": [
    "Вычислить  наборы  из  23 мел-частотных кепстральных коэффициентов для аудиоданных"
   ]
  },
  {
   "cell_type": "code",
   "execution_count": 7,
   "metadata": {},
   "outputs": [],
   "source": [
    "def calc_mfcc(id_list):\n",
    "    for id in id_list:\n",
    "        file_list = list(FileLister(root=f\"wav\\\\{id}\", recursive=True))\n",
    "        wav_list = [i for i in file_list if i.endswith(\".wav\")]\n",
    "        for file_path in wav_list:\n",
    "            path_to_mfcc = file_path.split(\".\")[0]+\".pt\"\n",
    "            if not os.path.isfile(path_to_mfcc):\n",
    "                # загрузить звукозапись\n",
    "                waveform, sample_rate = torchaudio.load(file_path)\n",
    "\n",
    "                # вычислить mfcc для записи\n",
    "                mfcc = torchaudio.compliance.kaldi.mfcc(waveform, sample_frequency=sample_rate, num_ceps=23)\n",
    "                \n",
    "                # сохранить коэффициенты на диск\n",
    "                torch.save(mfcc, path_to_mfcc)"
   ]
  },
  {
   "cell_type": "code",
   "execution_count": 8,
   "metadata": {},
   "outputs": [],
   "source": [
    "calc_mfcc(male_id)\n",
    "calc_mfcc(female_id)"
   ]
  },
  {
   "cell_type": "markdown",
   "metadata": {},
   "source": [
    "Разделить данные на тренировочное и тестовое"
   ]
  },
  {
   "cell_type": "code",
   "execution_count": 9,
   "metadata": {},
   "outputs": [],
   "source": [
    "male_train_id = male_id.iloc[:10]\n",
    "male_test_id = male_id.iloc[10:15]\n",
    "\n",
    "female_train_id = female_id.iloc[:10]\n",
    "female_test_id = female_id.iloc[10:15]"
   ]
  },
  {
   "cell_type": "markdown",
   "metadata": {},
   "source": [
    "Загрузить сохраненные наборы коэффициентов с диска"
   ]
  },
  {
   "cell_type": "code",
   "execution_count": 10,
   "metadata": {},
   "outputs": [],
   "source": [
    "def load_mfcc(id_list, type):\n",
    "    list_mfcc = []\n",
    "    for id in id_list:\n",
    "        file_list = list(FileLister(root=f\"wav\\\\{id}\", recursive=True))\n",
    "        mfcc_path_list = [i for i in file_list if i.endswith(\".pt\")]\n",
    "        for path in mfcc_path_list:\n",
    "            list_mfcc.append(torch.load(path))\n",
    "        \n",
    "    if type == \"test\":\n",
    "        return [i.numpy() for i in list_mfcc]\n",
    "    elif type == \"train\":\n",
    "        return torch.cat(list_mfcc).numpy()"
   ]
  },
  {
   "cell_type": "code",
   "execution_count": 11,
   "metadata": {},
   "outputs": [],
   "source": [
    "X_male_train = load_mfcc(male_train_id, \"train\")\n",
    "X_female_train = load_mfcc(female_train_id, \"train\")"
   ]
  },
  {
   "cell_type": "code",
   "execution_count": 12,
   "metadata": {},
   "outputs": [],
   "source": [
    "y_male = load_mfcc(male_test_id, type=\"test\")\n",
    "y_female = load_mfcc(female_test_id, type=\"test\")"
   ]
  },
  {
   "cell_type": "markdown",
   "metadata": {},
   "source": [
    "Обучить две многомерные модели гауссовой смеси, состоящих  из 5 гауссоид"
   ]
  },
  {
   "cell_type": "code",
   "execution_count": 13,
   "metadata": {},
   "outputs": [],
   "source": [
    "male_model = GaussianMixture(n_components=5, random_state=0).fit(X_male_train)\n",
    "female_model = GaussianMixture(n_components=5, random_state=0).fit(X_female_train)"
   ]
  },
  {
   "cell_type": "code",
   "execution_count": null,
   "metadata": {},
   "outputs": [],
   "source": [
    "def predict(y):\n",
    "  res = np.array([])\n",
    "  for i in y:\n",
    "    res = np.append(res, np.sum(male_model.score_samples(i))-np.sum(female_model.score_samples(i)))\n",
    "  return res\n",
    "  \n",
    "res_male = predict(y_male)\n",
    "res_female = predict(y_female)"
   ]
  },
  {
   "cell_type": "markdown",
   "metadata": {},
   "source": [
    "Точность для дикторов мужского пола и дикторов женского пола"
   ]
  },
  {
   "cell_type": "code",
   "execution_count": null,
   "metadata": {},
   "outputs": [
    {
     "name": "stdout",
     "output_type": "stream",
     "text": [
      "Accuracy for male gender:      98.88%\n",
      "Accuracy for female gender:     100.00%\n"
     ]
    }
   ],
   "source": [
    "accuracy_male = np.sum(np.array(res_male) > 0, axis=0)/len(res_male)\n",
    "accuracy_female = np.sum(np.array(res_female) < 0, axis=0)/len(res_female)\n",
    "\n",
    "print(\"Accuracy for male gender: {:10.2f}%\".format(100*accuracy_male))\n",
    "print(\"Accuracy for female gender: {:10.2f}%\".format(100*accuracy_female))"
   ]
  }
 ],
 "metadata": {
  "colab": {
   "collapsed_sections": [],
   "name": "lab4.ipynb",
   "provenance": []
  },
  "kernelspec": {
   "display_name": "Python 3.10.8 64-bit (microsoft store)",
   "language": "python",
   "name": "python3"
  },
  "language_info": {
   "codemirror_mode": {
    "name": "ipython",
    "version": 3
   },
   "file_extension": ".py",
   "mimetype": "text/x-python",
   "name": "python",
   "nbconvert_exporter": "python",
   "pygments_lexer": "ipython3",
   "version": "3.10.8"
  },
  "vscode": {
   "interpreter": {
    "hash": "3429c8c41f4e14c6c11da4fa79df9200c41d1094660d984a51e4a8027edd4f52"
   }
  }
 },
 "nbformat": 4,
 "nbformat_minor": 1
}
